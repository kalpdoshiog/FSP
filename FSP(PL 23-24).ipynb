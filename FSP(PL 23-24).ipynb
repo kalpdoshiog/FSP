{
 "cells": [
  {
   "cell_type": "code",
   "execution_count": 1,
   "id": "0c1425d3",
   "metadata": {},
   "outputs": [],
   "source": [
    "import requests"
   ]
  },
  {
   "cell_type": "code",
   "execution_count": 2,
   "id": "2bed89f7",
   "metadata": {},
   "outputs": [],
   "source": [
    "standing_url = \"https://fbref.com/en/comps/9/Premier-League-Stats\""
   ]
  },
  {
   "cell_type": "code",
   "execution_count": 3,
   "id": "2cf9a07e",
   "metadata": {},
   "outputs": [],
   "source": [
    "data = requests.get(standing_url)"
   ]
  },
  {
   "cell_type": "code",
   "execution_count": 4,
   "id": "902beebf",
   "metadata": {},
   "outputs": [],
   "source": [
    "from bs4 import BeautifulSoup"
   ]
  },
  {
   "cell_type": "code",
   "execution_count": 5,
   "id": "0c708545",
   "metadata": {},
   "outputs": [],
   "source": [
    "soup = BeautifulSoup(data.text)"
   ]
  },
  {
   "cell_type": "code",
   "execution_count": 6,
   "id": "d4a0cbcb",
   "metadata": {},
   "outputs": [],
   "source": [
    "table = soup.find(\"table\" , class_ = \"stats_table\")"
   ]
  },
  {
   "cell_type": "code",
   "execution_count": 7,
   "id": "412e5786",
   "metadata": {},
   "outputs": [
    {
     "name": "stdout",
     "output_type": "stream",
     "text": [
      "[]\n"
     ]
    }
   ],
   "source": [
    "print(soup.select('table.stats_table'))"
   ]
  },
  {
   "cell_type": "code",
   "execution_count": 8,
   "id": "2f5931d7",
   "metadata": {},
   "outputs": [],
   "source": [
    "title = soup.find_all(\"th\")"
   ]
  },
  {
   "cell_type": "code",
   "execution_count": 9,
   "id": "793aec59",
   "metadata": {},
   "outputs": [],
   "source": [
    "#print(title)"
   ]
  },
  {
   "cell_type": "code",
   "execution_count": 10,
   "id": "464e61b7",
   "metadata": {},
   "outputs": [],
   "source": [
    "header = []"
   ]
  },
  {
   "cell_type": "code",
   "execution_count": 11,
   "id": "1cf04e19",
   "metadata": {},
   "outputs": [],
   "source": [
    "for i in title:\n",
    "  name = i.text\n",
    "  header.append(name)"
   ]
  },
  {
   "cell_type": "code",
   "execution_count": 12,
   "id": "882ed711",
   "metadata": {},
   "outputs": [
    {
     "name": "stdout",
     "output_type": "stream",
     "text": [
      "[]\n"
     ]
    }
   ],
   "source": [
    "print(header)"
   ]
  },
  {
   "cell_type": "code",
   "execution_count": 13,
   "id": "121314d3",
   "metadata": {},
   "outputs": [],
   "source": [
    "import pandas as pd"
   ]
  },
  {
   "cell_type": "code",
   "execution_count": 14,
   "id": "e2e34dcb",
   "metadata": {},
   "outputs": [],
   "source": [
    "df = pd.DataFrame(columns=header)"
   ]
  },
  {
   "cell_type": "code",
   "execution_count": 15,
   "id": "84aa1967",
   "metadata": {},
   "outputs": [
    {
     "name": "stdout",
     "output_type": "stream",
     "text": [
      "Empty DataFrame\n",
      "Columns: []\n",
      "Index: []\n"
     ]
    }
   ],
   "source": [
    "print(df)"
   ]
  },
  {
   "cell_type": "code",
   "execution_count": 16,
   "id": "4fac0985",
   "metadata": {},
   "outputs": [
    {
     "name": "stdout",
     "output_type": "stream",
     "text": [
      "[]\n"
     ]
    }
   ],
   "source": [
    "row=soup.find_all(\"tr\")\n",
    "print(row)"
   ]
  },
  {
   "cell_type": "code",
   "execution_count": 17,
   "id": "4c65f6a4",
   "metadata": {},
   "outputs": [],
   "source": [
    "rows = soup.find_all('tr')"
   ]
  },
  {
   "cell_type": "code",
   "execution_count": 6,
   "id": "7d450840",
   "metadata": {},
   "outputs": [
    {
     "name": "stdout",
     "output_type": "stream",
     "text": [
      "Data successfully exported.\n"
     ]
    }
   ],
   "source": [
    "import pandas as pd\n",
    "\n",
    "# Define the data as a list of lists\n",
    "data = [\n",
    "['Liverpool', '21', '14', '6', '1', '47', '18', '+29', '48', '2.29', '45.7', '24.0', '+21.7', '+1.03', 'D D W W W', '52,619', 'Mohamed Salah - 14', 'Alisson', ''],\n",
    "['Manchester City', '20', '13', '4', '3', '48', '23', '+25', '43', '2.15', '39.7', '19.1', '+20.6', '+1.03', 'W D W W W', '53,297', 'Erling Haaland - 14', 'Ederson', ''],\n",
    "['Arsenal', '21', '13', '4', '4', '42', '20', '+22', '43', '2.05', '39.4', '16.7', '+22.7', '+1.08', 'W D L L W', '60,180', 'Bukayo Saka - 6', 'David Raya', ''],\n",
    "['Aston Villa', '21', '13', '4', '4', '43', '27', '+16', '43', '2.05', '37.2', '26.7', '+10.4', '+0.50', 'W D L W D', '41,495', 'Ollie Watkins - 9', 'Emiliano Martínez', ''],\n",
    "['Tottenham', '21', '12', '4', '5', '44', '31', '+13', '40', '1.90', '36.4', '35.5', '+0.9', '+0.04', 'W W L W D', '61,624', 'Son Heung-min - 12', 'Guglielmo Vicario', ''],\n",
    "['West Ham', '21', '10', '5', '6', '35', '32', '+3', '35', '1.67', '29.9', '37.7', '-7.8', '-0.37', 'W W W D D', '62,660', 'Jarrod Bowen - 11', 'Alphonse Areola', ''],\n",
    "['Brighton', '21', '8', '8', '5', '38', '33', '+5', '32', '1.52', '35.9', '30.7', '+5.1', '+0.24', 'L D W D D', '32,504', 'João Pedro - 7', 'Jason Steele', ''],\n",
    "['Manchester Utd', '21', '10', '2', '9', '24', '29', '-5', '32', '1.52', '29.9', '33.7', '-3.8', '-0.18', 'D L W L D', '73,511', 'Scott McTominay - 5', 'André Onana', ''],\n",
    "['Chelsea', '21', '9', '4', '8', '35', '31', '+4', '31', '1.48', '41.6', '29.7', '+11.9', '+0.57', 'W L W W W', '39,713', 'Cole Palmer - 9', 'Robert Sánchez', ''],\n",
    "['Newcastle Utd', '21', '9', '2', '10', '41', '32', '+9', '29', '1.38', '40.5', '36.5', '+4.1', '+0.19', 'W L L L L', '52,096', 'Alexander Isak - 10', 'Nick Pope', ''],\n",
    "['Wolves', '21', '8', '5', '8', '30', '31', '-1', '29', '1.38', '27.7', '34.1', '-6.3', '-0.30', 'L W W W D', '31,390', 'Hwang Hee-chan - 10', 'José Sá', ''],\n",
    "['Bournemouth', '20', '7', '4', '9', '28', '39', '-11', '25', '1.25', '28.4', '32.9', '-4.5', '-0.22', 'W W W L L', '11,047', 'Dominic Solanke - 12', 'Neto', ''],\n",
    "['Fulham', '21', '7', '3', '11', '28', '36', '-8', '24', '1.14', '25.2', '36.5', '-11.3', '-0.54', 'L L L W L', '24,243', 'Raúl Jiménez - 5', 'Bernd Leno', ''],\n",
    "['Brentford', '20', '6', '4', '10', '29', '33', '-4', '22', '1.10', '33.8', '26.5', '+7.3', '+0.37', 'L L L L W', '17,059', 'Bryan Mbeumo - 7', 'Mark Flekken', ''],\n",
    "['Crystal Palace', '21', '5', '6', '10', '22', '34', '-12', '21', '1.00', '24.9', '31.6', '-6.7', '-0.32', 'D D L W L', '24,902', 'Odsonne Édouard - 6', 'Sam Johnstone', ''],\n",
    "[\"Nott'ham Forest\", '21', '5', '5', '11', '26', '38', '-12', '20', '0.95', '25.0', '31.9', '-6.9', '-0.33', 'L L W W L', '29,289', 'Chris Wood - 8', 'Matt Turner', ''],\n",
    "['Everton', '21', '8', '3', '10', '24', '28', '-4', '17', '0.81', '31.2', '28.9', '+2.3', '+0.11', 'W L L L D', '39,104', 'Abdoulaye Doucouré - 6', 'Jordan Pickford', '10-point deduction 1'],\n",
    "['Luton Town', '20', '4', '4', '12', '24', '38', '-14', '16', '0.80', '20.2', '39.6', '-19.5', '-0.97', 'L W W L D', '10,914', 'Elijah Adebayo - 5', 'Thomas Kaminski', ''],\n",
    "['Burnley', '21', '3', '3', '15', '21', '42', '-21', '12', '0.57', '18.6', '35.4', '-16.9', '-0.80', 'L W L L D', '21,430', 'Lyle Foster, Zeki Amdouni - 4', 'James Trafford', ''],\n",
    "['Sheffield Utd', '21', '2', '4', '15', '17', '51', '-34', '10', '0.48', '18.7', '42.1', '-23.4', '-1.12', 'L D L L D', '30,555', 'Oliver McBurnie - 4', 'Wes Foderingham', ''],\n",
    "[]]\n",
    "\n",
    "# Create a DataFrame from the list of lists\n",
    "df = pd.DataFrame(data, columns=[\"Team\", \"Matches Played\", \"Wins\", \"Losses\", \"Draw\", \"Goals For\", \"Goals Against\",\n",
    "    \"Goals Difference\", \"Points\", \"Points/Match\", \"Expected Goals\", \"Expected Goal Difference per 90 minutes\",\n",
    "    \"Expected Goals Allowed\", \"Expected Goals Difference\", \"Last 5 Matches\", \"Attendance\",\n",
    "    \"Top Team Scorer\", \"Goal Keeper\", \"Notes\"])\n",
    "\n",
    "\n",
    "\n",
    "\n",
    "# Export DataFrame to CSV\n",
    "df.to_csv(r\"D:\\FSP(PL)Dataset.csv\", index=False)\n",
    "\n",
    "print(\"Data successfully exported.\")\n"
   ]
  },
  {
   "cell_type": "code",
   "execution_count": null,
   "id": "be94b55e",
   "metadata": {},
   "outputs": [],
   "source": []
  }
 ],
 "metadata": {
  "kernelspec": {
   "display_name": "Python 3 (ipykernel)",
   "language": "python",
   "name": "python3"
  },
  "language_info": {
   "codemirror_mode": {
    "name": "ipython",
    "version": 3
   },
   "file_extension": ".py",
   "mimetype": "text/x-python",
   "name": "python",
   "nbconvert_exporter": "python",
   "pygments_lexer": "ipython3",
   "version": "3.11.5"
  }
 },
 "nbformat": 4,
 "nbformat_minor": 5
}
