{
 "cells": [
  {
   "cell_type": "code",
   "execution_count": 1,
   "id": "b9afd311",
   "metadata": {},
   "outputs": [],
   "source": [
    "import requests"
   ]
  },
  {
   "cell_type": "code",
   "execution_count": 2,
   "id": "1c528446",
   "metadata": {},
   "outputs": [],
   "source": [
    "standing_url =\"https://fbref.com/en/comps/13/Ligue-1-Stats\""
   ]
  },
  {
   "cell_type": "code",
   "execution_count": 3,
   "id": "951a261e",
   "metadata": {},
   "outputs": [],
   "source": [
    "data = requests.get(standing_url)"
   ]
  },
  {
   "cell_type": "code",
   "execution_count": 4,
   "id": "04588b95",
   "metadata": {},
   "outputs": [],
   "source": [
    "from bs4 import BeautifulSoup"
   ]
  },
  {
   "cell_type": "code",
   "execution_count": 5,
   "id": "120d873c",
   "metadata": {},
   "outputs": [],
   "source": [
    "soup = BeautifulSoup(data.text)"
   ]
  },
  {
   "cell_type": "code",
   "execution_count": 6,
   "id": "11165240",
   "metadata": {},
   "outputs": [],
   "source": [
    "table = soup.find(\"table\" , class_ = \"stats_table\")"
   ]
  },
  {
   "cell_type": "code",
   "execution_count": 7,
   "id": "f5aa6317",
   "metadata": {},
   "outputs": [
    {
     "name": "stdout",
     "output_type": "stream",
     "text": [
      "[]\n"
     ]
    }
   ],
   "source": [
    "print(soup.select('table.stats_table'))"
   ]
  },
  {
   "cell_type": "code",
   "execution_count": 8,
   "id": "e6ee8c90",
   "metadata": {},
   "outputs": [],
   "source": [
    "title = soup.find_all(\"th\")"
   ]
  },
  {
   "cell_type": "code",
   "execution_count": 9,
   "id": "9524de96",
   "metadata": {},
   "outputs": [],
   "source": [
    "#print(title)"
   ]
  },
  {
   "cell_type": "code",
   "execution_count": 10,
   "id": "b235e4a8",
   "metadata": {},
   "outputs": [],
   "source": [
    "header = []"
   ]
  },
  {
   "cell_type": "code",
   "execution_count": 11,
   "id": "5abd6f91",
   "metadata": {},
   "outputs": [],
   "source": [
    "for i in title:\n",
    "  name = i.text\n",
    "  header.append(name)"
   ]
  },
  {
   "cell_type": "code",
   "execution_count": 12,
   "id": "cd3a1386",
   "metadata": {},
   "outputs": [
    {
     "name": "stdout",
     "output_type": "stream",
     "text": [
      "[]\n"
     ]
    }
   ],
   "source": [
    "print(header)"
   ]
  },
  {
   "cell_type": "code",
   "execution_count": 13,
   "id": "fc78b825",
   "metadata": {},
   "outputs": [],
   "source": [
    "import pandas as pd"
   ]
  },
  {
   "cell_type": "code",
   "execution_count": 14,
   "id": "c298a3d1",
   "metadata": {},
   "outputs": [],
   "source": [
    "df = pd.DataFrame(columns=header)"
   ]
  },
  {
   "cell_type": "code",
   "execution_count": 15,
   "id": "1c037016",
   "metadata": {},
   "outputs": [
    {
     "name": "stdout",
     "output_type": "stream",
     "text": [
      "Empty DataFrame\n",
      "Columns: []\n",
      "Index: []\n"
     ]
    }
   ],
   "source": [
    "print(df)"
   ]
  },
  {
   "cell_type": "code",
   "execution_count": 16,
   "id": "b896ebd4",
   "metadata": {},
   "outputs": [
    {
     "name": "stdout",
     "output_type": "stream",
     "text": [
      "[]\n"
     ]
    }
   ],
   "source": [
    "row=soup.find_all(\"tr\")\n",
    "print(row)"
   ]
  },
  {
   "cell_type": "code",
   "execution_count": 17,
   "id": "933f63b3",
   "metadata": {},
   "outputs": [],
   "source": [
    "rows = soup.find_all('tr')"
   ]
  },
  {
   "cell_type": "code",
   "execution_count": 18,
   "id": "22cf429e",
   "metadata": {},
   "outputs": [],
   "source": [
    "for row in rows:\n",
    "    cols=row.find_all('td')\n",
    "    cols=[x.text.strip() for x in cols]\n",
    "    print(cols)"
   ]
  },
  {
   "cell_type": "code",
   "execution_count": 20,
   "id": "2e7f34d6",
   "metadata": {},
   "outputs": [
    {
     "name": "stdout",
     "output_type": "stream",
     "text": [
      "Data successfully exported\n"
     ]
    }
   ],
   "source": [
    "import pandas as pd\n",
    "\n",
    "# Define the data as a list of lists\n",
    "data = [\n",
    "    ['Paris S-G', '19', '13', '5', '1', '46', '16', '+30', '44', '2.32', '39.8', '20.5', '+19.3', '+1.02', 'W D W W D', '42,270', 'Kylian Mbappé - 19', 'Gianluigi Donnarumma', ''],\n",
    "['Nice', '19', '11', '5', '3', '20', '11', '+9', '38', '2.00', '27.1', '17.3', '+9.8', '+0.52', 'W L W L W', '23,480', 'Terem Moffi - 6', 'Marcin Bułka', ''],\n",
    "['Brest', '19', '10', '5', '4', '29', '17', '+12', '35', '1.84', '27.9', '22.3', '+5.6', '+0.30', 'W W W W D', '14,403', 'Romain Del Castillo, Kamory Doumbia - 5', 'Marco Bizot', ''],\n",
    "['Monaco', '19', '10', '4', '5', '36', '27', '+9', '34', '1.79', '26.7', '23.2', '+3.5', '+0.18', 'W L W L D', '7,805', 'Wissam Ben Yedder - 10', 'Philipp Köhn', ''],\n",
    "['Lille', '19', '8', '8', '3', '24', '14', '+10', '32', '1.68', '26.1', '18.1', '+8.1', '+0.42', 'D D L W D', '37,039', 'Jonathan David - 6', 'Lucas Chevalier', ''],\n",
    "['Reims', '19', '9', '3', '7', '25', '24', '+1', '30', '1.58', '24.3', '21.9', '+2.4', '+0.13', 'L L W W D', '13,909', 'Teddy Teuma - 5', 'Yehvann Diouf', ''],\n",
    "['Marseille', '19', '7', '8', '4', '28', '21', '+7', '29', '1.53', '31.7', '16.3', '+15.4', '+0.81', 'W W D D D', '54,388', 'Pierre-Emerick Aubameyang - 6', 'Pau López', ''],\n",
    "['Lens', '19', '8', '5', '6', '23', '19', '+4', '29', '1.53', '27.2', '25.9', '+1.2', '+0.07', 'D W L L W', '37,865', 'Wesley Saïd - 4', 'Brice Samba', ''],\n",
    "['Rennes', '19', '6', '7', '6', '28', '24', '+4', '25', '1.32', '27.9', '21.4', '+6.6', '+0.35', 'L D W W W', '27,541', 'Benjamin Bourigeaud - 5', 'Steve Mandanda', ''],\n",
    "['Strasbourg', '19', '6', '7', '6', '20', '24', '-4', '25', '1.32', '21.2', '23.3', '-2.1', '-0.11', 'W W W D D', '25,326', 'Emanuel Emegha - 4', 'Matz Sels', ''],\n",
    "['Le Havre', '19', '5', '8', '6', '22', '23', '-1', '23', '1.21', '21.0', '27.3', '-6.3', '-0.33', 'L W L W D', '39,570', 'Nabil Alioui, Emmanuel Sabbi... - 4', 'Arthur Desmas', ''],\n",
    "['Montpellier', '19', '4', '8', '7', '19', '23', '-4', '19', '1.00', '24.4', '24.2', '+0.2', '+0.01', 'D W D L D', '13,004', 'Akor Adams - 7', 'Benjamin Lecomte', '1-point deduction 1'],\n",
    "['Nantes', '19', '5', '4', '10', '20', '30', '-10', '19', '1.00', '23.3', '31.1', '-7.8', '-0.41', 'L L L L D', '29,164', 'Mostafa Mohamed - 6', 'Alban Lafont', ''],\n",
    "['Toulouse', '19', '3', '8', '8', '16', '25', '-9', '17', '0.89', '20.4', '29.9', '-9.4', '-0.50', 'L D L W L', '21,926', 'Thijs Dallinga - 5', 'Guillaume Restes', ''],\n",
    "['Metz', '19', '4', '4', '11', '16', '29', '-13', '16', '0.84', '14.6', '28.8', '-14.2', '-0.75', 'L L L L L', '23,093', 'Ablie Jallow, Cheikh Tidiane Sabaly - 3', 'Alexandre Oukidja', ''],\n",
    "['Lyon', '19', '4', '4', '11', '19', '33', '-14', '16', '0.84', '23.8', '30.5', '-6.7', '-0.35', 'W W W L L', '37,461', 'Alexandre Lacazette - 9', 'Anthony Lopes', ''],\n",
    "['Clermont Foot', '19', '3', '6', '10', '14', '28', '-14', '15', '0.79', '19.5', '31.8', '-12.3', '-0.65', 'D L L W D', '8,881', 'Shamar Nicholson - 4', 'Mory Diaw', ''],\n",
    "['Lorient', '19', '2', '7', '10', '24', '41', '-17', '13', '0.68', '16.5', '30.0', '-13.5', '-0.71', 'L L L L D', '15,240', 'Romain Faivre - 5', 'Yvon Mvogo', ''],\n",
    "[],\n",
    "[]]\n",
    "\n",
    "\n",
    "# Create a DataFrame from the list of lists\n",
    "df = pd.DataFrame(data, columns=[\n",
    "    \"Team\", \"Matches Played\", \"Wins\", \"Losses\", \"Draw\", \"Goals For\", \"Goals Against\",\n",
    "    \"Goals Difference\", \"Points\", \"Points/Match\", \"Expected Goals\", \"Expected Goal Difference per 90 minutes\",\n",
    "    \"Expected Goals Allowed\", \"Expected Goals Difference\", \"Last 5 Matches\", \"Attendance\",\n",
    "    \"Top Team Scorer\", \"Goal Keeper\", \"Notes\"\n",
    "])\n",
    "\n",
    "# Export DataFrame to CSV\n",
    "df.to_csv(r\"D:\\dataset1.csv\", index=False)\n",
    "\n",
    "print(\"Data successfully exported\")\n"
   ]
  },
  {
   "cell_type": "code",
   "execution_count": null,
   "id": "424f018d",
   "metadata": {},
   "outputs": [],
   "source": []
  },
  {
   "cell_type": "code",
   "execution_count": null,
   "id": "2490d23f",
   "metadata": {},
   "outputs": [],
   "source": []
  }
 ],
 "metadata": {
  "kernelspec": {
   "display_name": "Python 3 (ipykernel)",
   "language": "python",
   "name": "python3"
  },
  "language_info": {
   "codemirror_mode": {
    "name": "ipython",
    "version": 3
   },
   "file_extension": ".py",
   "mimetype": "text/x-python",
   "name": "python",
   "nbconvert_exporter": "python",
   "pygments_lexer": "ipython3",
   "version": "3.11.5"
  }
 },
 "nbformat": 4,
 "nbformat_minor": 5
}
